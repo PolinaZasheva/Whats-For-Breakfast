{
  "nbformat": 4,
  "nbformat_minor": 0,
  "metadata": {
    "colab": {
      "name": "food_train_model.ipynb",
      "version": "0.3.2",
      "provenance": [],
      "collapsed_sections": [],
      "include_colab_link": true
    },
    "kernelspec": {
      "name": "python3",
      "display_name": "Python 3"
    },
    "accelerator": "GPU"
  },
  "cells": [
    {
      "cell_type": "markdown",
      "metadata": {
        "id": "view-in-github",
        "colab_type": "text"
      },
      "source": [
        "<a href=\"https://colab.research.google.com/github/PolinaZasheva/Whats-For-Breakfast/blob/master/food_train_model.ipynb\" target=\"_parent\"><img src=\"https://colab.research.google.com/assets/colab-badge.svg\" alt=\"Open In Colab\"/></a>"
      ]
    },
    {
      "cell_type": "code",
      "metadata": {
        "id": "ejkoGC6lPXMX",
        "colab_type": "code",
        "outputId": "fe7fec24-3836-4125-c7ae-15716870fc9b",
        "colab": {
          "base_uri": "https://localhost:8080/",
          "height": 124
        }
      },
      "source": [
        "from google.colab import drive\n",
        "drive.mount('/content/gdrive')"
      ],
      "execution_count": 0,
      "outputs": [
        {
          "output_type": "stream",
          "text": [
            "Go to this URL in a browser: https://accounts.google.com/o/oauth2/auth?client_id=947318989803-6bn6qk8qdgf4n4g3pfee6491hc0brc4i.apps.googleusercontent.com&redirect_uri=urn%3Aietf%3Awg%3Aoauth%3A2.0%3Aoob&scope=email%20https%3A%2F%2Fwww.googleapis.com%2Fauth%2Fdocs.test%20https%3A%2F%2Fwww.googleapis.com%2Fauth%2Fdrive%20https%3A%2F%2Fwww.googleapis.com%2Fauth%2Fdrive.photos.readonly%20https%3A%2F%2Fwww.googleapis.com%2Fauth%2Fpeopleapi.readonly&response_type=code\n",
            "\n",
            "Enter your authorization code:\n",
            "··········\n",
            "Mounted at /content/gdrive\n"
          ],
          "name": "stdout"
        }
      ]
    },
    {
      "cell_type": "code",
      "metadata": {
        "id": "DaKdMK5lkcaB",
        "colab_type": "code",
        "outputId": "da31aa9b-0a9d-40f1-fe93-0ca933638584",
        "colab": {
          "base_uri": "https://localhost:8080/",
          "height": 52
        }
      },
      "source": [
        "import tensorflow as tf\n",
        "print(tf.__version__)\n",
        "print(tf.test.gpu_device_name())"
      ],
      "execution_count": 0,
      "outputs": [
        {
          "output_type": "stream",
          "text": [
            "1.14.0\n",
            "/device:GPU:0\n"
          ],
          "name": "stdout"
        }
      ]
    },
    {
      "cell_type": "code",
      "metadata": {
        "id": "SepUBJ1sUmIQ",
        "colab_type": "code",
        "colab": {}
      },
      "source": [
        "import tensorflow as tf\n",
        "import matplotlib.image as img\n",
        "%matplotlib inline\n",
        "import numpy as np\n",
        "import tensorflow.keras.backend as K\n",
        "from tensorflow.keras.models import load_model\n",
        "from tensorflow.keras.preprocessing import image\n",
        "import matplotlib.pyplot as plt\n",
        "import os\n",
        "import random\n",
        "from tensorflow.keras import regularizers\n",
        "from tensorflow.keras.applications.inception_v3 import InceptionV3\n",
        "from tensorflow.keras.models import Sequential, Model\n",
        "from tensorflow.keras.layers import Dense, Dropout, Activation, Flatten\n",
        "from tensorflow.keras.layers import Convolution2D, MaxPooling2D, ZeroPadding2D, GlobalAveragePooling2D, AveragePooling2D\n",
        "from tensorflow.keras.preprocessing.image import ImageDataGenerator\n",
        "from tensorflow.keras.callbacks import ModelCheckpoint, CSVLogger\n",
        "from tensorflow.keras.optimizers import SGD\n",
        "from tensorflow.keras.regularizers import l2\n",
        "from tensorflow import keras\n",
        "from tensorflow.keras import models\n",
        "import cv2"
      ],
      "execution_count": 0,
      "outputs": []
    },
    {
      "cell_type": "code",
      "metadata": {
        "id": "rL7VJ8QvU5fX",
        "colab_type": "code",
        "outputId": "01139df2-4076-4eab-e696-8b6af46b2636",
        "colab": {
          "base_uri": "https://localhost:8080/",
          "height": 35
        }
      },
      "source": [
        "# Uploaded train and test data into Google Drive\n",
        "os.listdir('./gdrive/My Drive/food_data/')"
      ],
      "execution_count": 0,
      "outputs": [
        {
          "output_type": "execute_result",
          "data": {
            "text/plain": [
              "['test', 'train']"
            ]
          },
          "metadata": {
            "tags": []
          },
          "execution_count": 4
        }
      ]
    },
    {
      "cell_type": "code",
      "metadata": {
        "id": "_LJALyuOVtzM",
        "colab_type": "code",
        "colab": {}
      },
      "source": [
        "base_dir = '/content/gdrive/My Drive/food_data/'\n",
        "train_data_dir = base_dir + 'train'\n",
        "validation_data_dir = base_dir + 'test'\n",
        "\n",
        "# Location to save the models and log\n",
        "best_model = base_dir+'best_model_3class.hdf5'\n",
        "model_trained = base_dir +'model_trained_3class.hdf5'\n",
        "history_log = base_dir +'history_3class.log'\n"
      ],
      "execution_count": 0,
      "outputs": []
    },
    {
      "cell_type": "code",
      "metadata": {
        "id": "sDu1vYzFYORz",
        "colab_type": "code",
        "outputId": "ee6b8066-b8c5-426c-cfc3-9f6b6b05f1c0",
        "colab": {
          "base_uri": "https://localhost:8080/",
          "height": 1000
        }
      },
      "source": [
        "# Use Inceptionv3 pretrained model\n",
        "K.clear_session()\n",
        "n_classes = 9\n",
        "img_width, img_height = 299, 299\n",
        "nb_train_samples =6930# 2250 #75750\n",
        "nb_validation_samples =2930# 750 #25250\n",
        "batch_size = 16\n",
        "\n",
        "train_datagen = ImageDataGenerator(\n",
        "    rescale=1. / 255,\n",
        "    shear_range=0.2,\n",
        "    zoom_range=0.2,\n",
        "    horizontal_flip=True)\n",
        "\n",
        "test_datagen = ImageDataGenerator(rescale=1. / 255)\n",
        "\n",
        "train_generator = train_datagen.flow_from_directory(\n",
        "    train_data_dir,\n",
        "    target_size=(img_height, img_width),\n",
        "    batch_size=batch_size,\n",
        "    class_mode='categorical')\n",
        "\n",
        "validation_generator = test_datagen.flow_from_directory(\n",
        "    validation_data_dir,\n",
        "    target_size=(img_height, img_width),\n",
        "    batch_size=batch_size,\n",
        "    class_mode='categorical')\n",
        "\n",
        "\n",
        "inception = InceptionV3(weights='imagenet', include_top=False)\n",
        "x = inception.output\n",
        "x = GlobalAveragePooling2D()(x)\n",
        "x = Dense(128,activation='relu')(x)\n",
        "x = Dropout(rate=0.2)(x)\n",
        "\n",
        "predictions = Dense(9,kernel_regularizer=regularizers.l2(0.005), activation='softmax')(x)\n",
        "\n",
        "model = Model(inputs=inception.input, outputs=predictions)\n",
        "model.compile(optimizer=SGD(lr=0.0001, momentum=0.9), loss='categorical_crossentropy', metrics=['accuracy'])\n",
        "checkpointer = ModelCheckpoint(filepath=best_model, verbose=1, save_best_only=True)\n",
        "csv_logger = CSVLogger(history_log)\n",
        "\n",
        "history = model.fit_generator(train_generator,\n",
        "                    steps_per_epoch = nb_train_samples // batch_size,\n",
        "                    validation_data=validation_generator,\n",
        "                    validation_steps=nb_validation_samples // batch_size,\n",
        "                    epochs=30,\n",
        "                    verbose=1,\n",
        "                    callbacks=[csv_logger, checkpointer])\n",
        "\n",
        "model.save(model_trained)"
      ],
      "execution_count": 0,
      "outputs": [
        {
          "output_type": "stream",
          "text": [
            "Found 6939 images belonging to 9 classes.\n",
            "Found 2941 images belonging to 9 classes.\n",
            "Epoch 1/30\n",
            "432/433 [============================>.] - ETA: 3s - loss: 2.1420 - acc: 0.2563\n",
            "Epoch 00001: val_loss improved from inf to 1.85855, saving model to /content/gdrive/My Drive/food_data/best_model_3class.hdf5\n",
            "433/433 [==============================] - 2350s 5s/step - loss: 2.1420 - acc: 0.2562 - val_loss: 1.8586 - val_acc: 0.4614\n",
            "Epoch 2/30\n",
            "432/433 [============================>.] - ETA: 0s - loss: 1.6973 - acc: 0.4883\n",
            "Epoch 00002: val_loss improved from 1.85855 to 1.40696, saving model to /content/gdrive/My Drive/food_data/best_model_3class.hdf5\n",
            "433/433 [==============================] - 201s 465ms/step - loss: 1.6972 - acc: 0.4885 - val_loss: 1.4070 - val_acc: 0.5782\n",
            "Epoch 3/30\n",
            "432/433 [============================>.] - ETA: 0s - loss: 1.3346 - acc: 0.6011\n",
            "Epoch 00003: val_loss improved from 1.40696 to 1.13793, saving model to /content/gdrive/My Drive/food_data/best_model_3class.hdf5\n",
            "433/433 [==============================] - 201s 464ms/step - loss: 1.3345 - acc: 0.6012 - val_loss: 1.1379 - val_acc: 0.6530\n",
            "Epoch 4/30\n",
            "432/433 [============================>.] - ETA: 0s - loss: 1.1248 - acc: 0.6640\n",
            "Epoch 00004: val_loss improved from 1.13793 to 1.00284, saving model to /content/gdrive/My Drive/food_data/best_model_3class.hdf5\n",
            "433/433 [==============================] - 203s 468ms/step - loss: 1.1245 - acc: 0.6640 - val_loss: 1.0028 - val_acc: 0.6916\n",
            "Epoch 5/30\n",
            "432/433 [============================>.] - ETA: 0s - loss: 0.9934 - acc: 0.7003\n",
            "Epoch 00005: val_loss improved from 1.00284 to 0.89108, saving model to /content/gdrive/My Drive/food_data/best_model_3class.hdf5\n",
            "433/433 [==============================] - 201s 465ms/step - loss: 0.9941 - acc: 0.7001 - val_loss: 0.8911 - val_acc: 0.7333\n",
            "Epoch 6/30\n",
            "432/433 [============================>.] - ETA: 0s - loss: 0.9068 - acc: 0.7300\n",
            "Epoch 00006: val_loss improved from 0.89108 to 0.85241, saving model to /content/gdrive/My Drive/food_data/best_model_3class.hdf5\n",
            "433/433 [==============================] - 201s 465ms/step - loss: 0.9074 - acc: 0.7297 - val_loss: 0.8524 - val_acc: 0.7357\n",
            "Epoch 7/30\n",
            "432/433 [============================>.] - ETA: 0s - loss: 0.8259 - acc: 0.7598\n",
            "Epoch 00007: val_loss improved from 0.85241 to 0.79318, saving model to /content/gdrive/My Drive/food_data/best_model_3class.hdf5\n",
            "433/433 [==============================] - 201s 464ms/step - loss: 0.8250 - acc: 0.7602 - val_loss: 0.7932 - val_acc: 0.7602\n",
            "Epoch 8/30\n",
            "432/433 [============================>.] - ETA: 0s - loss: 0.7711 - acc: 0.7730\n",
            "Epoch 00008: val_loss improved from 0.79318 to 0.74723, saving model to /content/gdrive/My Drive/food_data/best_model_3class.hdf5\n",
            "433/433 [==============================] - 203s 468ms/step - loss: 0.7713 - acc: 0.7726 - val_loss: 0.7472 - val_acc: 0.7766\n",
            "Epoch 9/30\n",
            "432/433 [============================>.] - ETA: 0s - loss: 0.7241 - acc: 0.7902\n",
            "Epoch 00009: val_loss improved from 0.74723 to 0.71661, saving model to /content/gdrive/My Drive/food_data/best_model_3class.hdf5\n",
            "433/433 [==============================] - 202s 466ms/step - loss: 0.7241 - acc: 0.7901 - val_loss: 0.7166 - val_acc: 0.7872\n",
            "Epoch 10/30\n",
            "432/433 [============================>.] - ETA: 0s - loss: 0.6874 - acc: 0.8054\n",
            "Epoch 00010: val_loss improved from 0.71661 to 0.69009, saving model to /content/gdrive/My Drive/food_data/best_model_3class.hdf5\n",
            "433/433 [==============================] - 199s 460ms/step - loss: 0.6870 - acc: 0.8054 - val_loss: 0.6901 - val_acc: 0.7927\n",
            "Epoch 11/30\n",
            "432/433 [============================>.] - ETA: 0s - loss: 0.6384 - acc: 0.8189\n",
            "Epoch 00011: val_loss improved from 0.69009 to 0.67747, saving model to /content/gdrive/My Drive/food_data/best_model_3class.hdf5\n",
            "433/433 [==============================] - 202s 467ms/step - loss: 0.6377 - acc: 0.8192 - val_loss: 0.6775 - val_acc: 0.7995\n",
            "Epoch 12/30\n",
            "432/433 [============================>.] - ETA: 0s - loss: 0.5979 - acc: 0.8312\n",
            "Epoch 00012: val_loss improved from 0.67747 to 0.66805, saving model to /content/gdrive/My Drive/food_data/best_model_3class.hdf5\n",
            "433/433 [==============================] - 201s 465ms/step - loss: 0.5975 - acc: 0.8314 - val_loss: 0.6681 - val_acc: 0.7971\n",
            "Epoch 13/30\n",
            "432/433 [============================>.] - ETA: 0s - loss: 0.5614 - acc: 0.8471\n",
            "Epoch 00013: val_loss improved from 0.66805 to 0.63953, saving model to /content/gdrive/My Drive/food_data/best_model_3class.hdf5\n",
            "433/433 [==============================] - 201s 465ms/step - loss: 0.5617 - acc: 0.8470 - val_loss: 0.6395 - val_acc: 0.8163\n",
            "Epoch 14/30\n",
            "432/433 [============================>.] - ETA: 0s - loss: 0.5369 - acc: 0.8564\n",
            "Epoch 00014: val_loss did not improve from 0.63953\n",
            "433/433 [==============================] - 199s 459ms/step - loss: 0.5365 - acc: 0.8566 - val_loss: 0.6408 - val_acc: 0.8060\n",
            "Epoch 15/30\n",
            "432/433 [============================>.] - ETA: 0s - loss: 0.4980 - acc: 0.8652\n",
            "Epoch 00015: val_loss did not improve from 0.63953\n",
            "433/433 [==============================] - 198s 457ms/step - loss: 0.4978 - acc: 0.8652 - val_loss: 0.6411 - val_acc: 0.8098\n",
            "Epoch 16/30\n",
            "432/433 [============================>.] - ETA: 0s - loss: 0.4761 - acc: 0.8719\n",
            "Epoch 00016: val_loss improved from 0.63953 to 0.61597, saving model to /content/gdrive/My Drive/food_data/best_model_3class.hdf5\n",
            "433/433 [==============================] - 201s 464ms/step - loss: 0.4762 - acc: 0.8719 - val_loss: 0.6160 - val_acc: 0.8142\n",
            "Epoch 17/30\n",
            "432/433 [============================>.] - ETA: 0s - loss: 0.4608 - acc: 0.8788\n",
            "Epoch 00017: val_loss did not improve from 0.61597\n",
            "433/433 [==============================] - 198s 457ms/step - loss: 0.4606 - acc: 0.8788 - val_loss: 0.6264 - val_acc: 0.8149\n",
            "Epoch 18/30\n",
            "432/433 [============================>.] - ETA: 0s - loss: 0.4181 - acc: 0.8937\n",
            "Epoch 00018: val_loss did not improve from 0.61597\n",
            "433/433 [==============================] - 197s 455ms/step - loss: 0.4190 - acc: 0.8934 - val_loss: 0.6179 - val_acc: 0.8180\n",
            "Epoch 19/30\n",
            "432/433 [============================>.] - ETA: 0s - loss: 0.3961 - acc: 0.8976\n",
            "Epoch 00019: val_loss did not improve from 0.61597\n",
            "433/433 [==============================] - 197s 456ms/step - loss: 0.3961 - acc: 0.8977 - val_loss: 0.6340 - val_acc: 0.8142\n",
            "Epoch 20/30\n",
            "432/433 [============================>.] - ETA: 0s - loss: 0.3772 - acc: 0.9049\n",
            "Epoch 00020: val_loss did not improve from 0.61597\n",
            "433/433 [==============================] - 197s 456ms/step - loss: 0.3767 - acc: 0.9050 - val_loss: 0.6587 - val_acc: 0.8046\n",
            "Epoch 21/30\n",
            "432/433 [============================>.] - ETA: 0s - loss: 0.3603 - acc: 0.9129\n",
            "Epoch 00021: val_loss did not improve from 0.61597\n",
            "433/433 [==============================] - 197s 454ms/step - loss: 0.3605 - acc: 0.9130 - val_loss: 0.6344 - val_acc: 0.8197\n",
            "Epoch 22/30\n",
            "432/433 [============================>.] - ETA: 0s - loss: 0.3367 - acc: 0.9214\n",
            "Epoch 00022: val_loss did not improve from 0.61597\n",
            "433/433 [==============================] - 197s 455ms/step - loss: 0.3369 - acc: 0.9213 - val_loss: 0.6313 - val_acc: 0.8190\n",
            "Epoch 23/30\n",
            "432/433 [============================>.] - ETA: 0s - loss: 0.3189 - acc: 0.9268\n",
            "Epoch 00023: val_loss did not improve from 0.61597\n",
            "433/433 [==============================] - 196s 453ms/step - loss: 0.3199 - acc: 0.9266 - val_loss: 0.6264 - val_acc: 0.8227\n",
            "Epoch 24/30\n",
            "432/433 [============================>.] - ETA: 0s - loss: 0.3048 - acc: 0.9314\n",
            "Epoch 00024: val_loss did not improve from 0.61597\n",
            "433/433 [==============================] - 196s 454ms/step - loss: 0.3044 - acc: 0.9315 - val_loss: 0.6437 - val_acc: 0.8190\n",
            "Epoch 25/30\n",
            "432/433 [============================>.] - ETA: 0s - loss: 0.2876 - acc: 0.9356\n",
            "Epoch 00025: val_loss did not improve from 0.61597\n",
            "433/433 [==============================] - 196s 453ms/step - loss: 0.2872 - acc: 0.9357 - val_loss: 0.6493 - val_acc: 0.8200\n",
            "Epoch 26/30\n",
            "432/433 [============================>.] - ETA: 0s - loss: 0.2805 - acc: 0.9421\n",
            "Epoch 00026: val_loss did not improve from 0.61597\n",
            "433/433 [==============================] - 197s 455ms/step - loss: 0.2803 - acc: 0.9421 - val_loss: 0.6508 - val_acc: 0.8224\n",
            "Epoch 27/30\n",
            "432/433 [============================>.] - ETA: 0s - loss: 0.2543 - acc: 0.9511\n",
            "Epoch 00027: val_loss did not improve from 0.61597\n",
            "433/433 [==============================] - 197s 454ms/step - loss: 0.2544 - acc: 0.9510 - val_loss: 0.6604 - val_acc: 0.8231\n",
            "Epoch 28/30\n",
            "432/433 [============================>.] - ETA: 0s - loss: 0.2404 - acc: 0.9535\n",
            "Epoch 00028: val_loss did not improve from 0.61597\n",
            "433/433 [==============================] - 197s 454ms/step - loss: 0.2403 - acc: 0.9536 - val_loss: 0.6590 - val_acc: 0.8217\n",
            "Epoch 29/30\n",
            "432/433 [============================>.] - ETA: 0s - loss: 0.2405 - acc: 0.9515\n",
            "Epoch 00029: val_loss did not improve from 0.61597\n",
            "433/433 [==============================] - 197s 454ms/step - loss: 0.2405 - acc: 0.9515 - val_loss: 0.6711 - val_acc: 0.8169\n",
            "Epoch 30/30\n",
            "432/433 [============================>.] - ETA: 0s - loss: 0.2289 - acc: 0.9560\n",
            "Epoch 00030: val_loss did not improve from 0.61597\n",
            "433/433 [==============================] - 196s 453ms/step - loss: 0.2286 - acc: 0.9561 - val_loss: 0.6629 - val_acc: 0.8214\n"
          ],
          "name": "stdout"
        }
      ]
    },
    {
      "cell_type": "code",
      "metadata": {
        "id": "WRqv8hIJWU0J",
        "colab_type": "code",
        "outputId": "b9b81dfe-7cc9-4da3-f59c-75e6a77ff1a8",
        "colab": {
          "base_uri": "https://localhost:8080/",
          "height": 173
        }
      },
      "source": [
        "class_map_3 = train_generator.class_indices\n",
        "class_map_3"
      ],
      "execution_count": 0,
      "outputs": [
        {
          "output_type": "execute_result",
          "data": {
            "text/plain": [
              "{'Not_Breakfast': 0,\n",
              " 'breakfast_burrito': 1,\n",
              " 'deviled_eggs': 2,\n",
              " 'donuts': 3,\n",
              " 'french_toast': 4,\n",
              " 'huevos_rancheros': 5,\n",
              " 'omelette': 6,\n",
              " 'pancakes': 7,\n",
              " 'waffles': 8}"
            ]
          },
          "metadata": {
            "tags": []
          },
          "execution_count": 11
        }
      ]
    },
    {
      "cell_type": "code",
      "metadata": {
        "id": "pZwWJ4l5j8BJ",
        "colab_type": "code",
        "colab": {}
      },
      "source": [
        "def plot_accuracy(history,title):\n",
        "    plt.title(title)\n",
        "    plt.plot(history.history['acc'])\n",
        "    plt.plot(history.history['val_acc'])\n",
        "    plt.ylabel('accuracy')\n",
        "    plt.xlabel('epoch')\n",
        "    plt.legend(['train_accuracy', 'validation_accuracy'], loc='best')\n",
        "    plt.show()\n",
        "def plot_loss(history,title):\n",
        "    plt.title(title)\n",
        "    plt.plot(history.history['loss'])\n",
        "    plt.plot(history.history['val_loss'])\n",
        "    plt.ylabel('loss')\n",
        "    plt.xlabel('epoch')\n",
        "    plt.legend(['train_loss', 'validation_loss'], loc='best')\n",
        "    plt.show()\n"
      ],
      "execution_count": 0,
      "outputs": []
    },
    {
      "cell_type": "code",
      "metadata": {
        "id": "Ndo3VgBXkEAE",
        "colab_type": "code",
        "outputId": "50fc6f7b-1117-4c13-e65b-802132cbdc7b",
        "colab": {
          "base_uri": "https://localhost:8080/",
          "height": 573
        }
      },
      "source": [
        "plot_accuracy(history,'Accuracy')\n",
        "plot_loss(history,'Loss')"
      ],
      "execution_count": 0,
      "outputs": [
        {
          "output_type": "display_data",
          "data": {
            "image/png": "[encoded data removed]",
            "text/plain": [
              "<Figure size 432x288 with 1 Axes>"
            ]
          },
          "metadata": {
            "tags": []
          }
        },
        {
          "output_type": "display_data",
          "data": {
            "image/png": "[encoded data removed]",
            "text/plain": [
              "<Figure size 432x288 with 1 Axes>"
            ]
          },
          "metadata": {
            "tags": []
          }
        }
      ]
    },
    {
      "cell_type": "code",
      "metadata": {
        "id": "iI9S3Wy5kFJc",
        "colab_type": "code",
        "colab": {}
      },
      "source": [
        ""
      ],
      "execution_count": 0,
      "outputs": []
    }
  ]
}