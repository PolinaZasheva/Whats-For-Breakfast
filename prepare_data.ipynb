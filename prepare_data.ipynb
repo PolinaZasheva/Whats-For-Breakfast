{
 "cells": [
  {
   "cell_type": "code",
   "execution_count": 2,
   "metadata": {},
   "outputs": [],
   "source": [
    "from collections import defaultdict\n",
    "import collections\n",
    "from shutil import copy\n",
    "from shutil import copytree, rmtree\n",
    "import os"
   ]
  },
  {
   "cell_type": "code",
   "execution_count": 3,
   "metadata": {},
   "outputs": [],
   "source": [
    "# Function to download data and extract\n",
    "def get_data_extract():\n",
    "  if \"food-101\" in os.listdir():\n",
    "    print(\"Dataset already exists\")\n",
    "  else:\n",
    "    print(\"Downloading the data...\")\n",
    "    !wget http://data.vision.ee.ethz.ch/cvl/food-101.tar.gz\n",
    "    print(\"Dataset downloaded!\")\n",
    "    print(\"Extracting data..\")\n",
    "    !tar xzvf food-101.tar.gz\n",
    "    print(\"Extraction done!\")"
   ]
  },
  {
   "cell_type": "code",
   "execution_count": 3,
   "metadata": {},
   "outputs": [],
   "source": [
    "# Call above funtion to download data and extract it to folder\n",
    "# Dataset is 5 gigs and will take a while\n",
    "#get_data_extract()"
   ]
  },
  {
   "cell_type": "code",
   "execution_count": 10,
   "metadata": {},
   "outputs": [
    {
     "data": {
      "text/plain": [
       "['classes.txt',\n",
       " 'labels.txt',\n",
       " 'test-subset.txt',\n",
       " 'test-subset_new.txt',\n",
       " 'test.json',\n",
       " 'test.txt',\n",
       " 'train-subset.txt',\n",
       " 'train-subset_new.txt',\n",
       " 'train.json',\n",
       " 'train.txt']"
      ]
     },
     "execution_count": 10,
     "metadata": {},
     "output_type": "execute_result"
    }
   ],
   "source": [
    "os.listdir('food-101/meta')"
   ]
  },
  {
   "cell_type": "code",
   "execution_count": 13,
   "metadata": {},
   "outputs": [],
   "source": [
    "# Function to create data subset\n",
    "def prepare_meta(filepath, output_file, food_list):\n",
    "    output = open(output_file,'w')\n",
    "    not_breakfast={}\n",
    "    with open(filepath, 'r') as txt:\n",
    "        files = [read.strip() for read in txt.readlines()]\n",
    "        for f in files:\n",
    "            food = f.split('/')\n",
    "            if food[0] in food_list:\n",
    "                output.write(food[0]+'/'+food[1]+'\\n')\n",
    "            else:\n",
    "                previous_count=not_breakfast.get(food[0],0)\n",
    "                if previous_count<10:\n",
    "                    output.write(food[0]+'/'+food[1]+'\\n')\n",
    "                    not_breakfast[food[0]]=previous_count+1\n",
    "                \n",
    "    print(\"Generated new meta file!\")"
   ]
  },
  {
   "cell_type": "code",
   "execution_count": 14,
   "metadata": {},
   "outputs": [],
   "source": [
    "# Three food items\n",
    "food_list = ['french_toast','omelette','waffles','breakfast_burrito','deviled_eggs','donuts','pancakes','huevos_rancheros']"
   ]
  },
  {
   "cell_type": "code",
   "execution_count": 15,
   "metadata": {},
   "outputs": [
    {
     "name": "stdout",
     "output_type": "stream",
     "text": [
      "Generated new meta file!\n"
     ]
    }
   ],
   "source": [
    "# Call function to generate ./meta/train-subset.txt\n",
    "filepath = 'food-101/meta/train.txt'\n",
    "output_file = 'food-101/meta/train-subset_new.txt'\n",
    "prepare_meta(filepath, output_file, food_list)"
   ]
  },
  {
   "cell_type": "code",
   "execution_count": 16,
   "metadata": {},
   "outputs": [
    {
     "name": "stdout",
     "output_type": "stream",
     "text": [
      "Generated new meta file!\n"
     ]
    }
   ],
   "source": [
    "# Call function to generate ./meta/test-subset.txt\n",
    "filepath = 'food-101/meta/test.txt'\n",
    "output_file = 'food-101/meta/test-subset_new.txt'\n",
    "prepare_meta(filepath, output_file, food_list)"
   ]
  },
  {
   "cell_type": "code",
   "execution_count": 9,
   "metadata": {},
   "outputs": [
    {
     "data": {
      "text/plain": [
       "['.ipynb_checkpoints',\n",
       " 'best_model_3class.hdf5',\n",
       " 'food-101',\n",
       " 'history_3class.log',\n",
       " 'model_trained_3class.hdf5',\n",
       " 'pic1.jpg',\n",
       " 'Predict_model.ipynb',\n",
       " 'prepare_data.ipynb',\n",
       " 'Train Model.ipynb']"
      ]
     },
     "execution_count": 9,
     "metadata": {},
     "output_type": "execute_result"
    }
   ],
   "source": [
    "os.listdir('./')"
   ]
  },
  {
   "cell_type": "code",
   "execution_count": 10,
   "metadata": {},
   "outputs": [],
   "source": [
    "# # Function to create subset data\n",
    "# def prepare_subset(food_list, src, dest):\n",
    "# #   if os.path.exists(dest):\n",
    "# #     rmtree(dest)\n",
    "#   os.makedirs(dest)\n",
    "#   for food_item in food_list :\n",
    "#     print(\"Copying images into\",food_item)\n",
    "#     copytree(os.path.join(src,food_item), os.path.join(dest,food_item))"
   ]
  },
  {
   "cell_type": "code",
   "execution_count": 11,
   "metadata": {},
   "outputs": [],
   "source": [
    "# src = 'food-101/images/'\n",
    "# dest = 'images/'"
   ]
  },
  {
   "cell_type": "code",
   "execution_count": 13,
   "metadata": {},
   "outputs": [
    {
     "name": "stdout",
     "output_type": "stream",
     "text": [
      "Copying images into french_toast\n",
      "Copying images into omelette\n",
      "Copying images into waffles\n"
     ]
    }
   ],
   "source": [
    "# prepare_subset(food_list, src, dest)"
   ]
  },
  {
   "cell_type": "code",
   "execution_count": 14,
   "metadata": {},
   "outputs": [
    {
     "data": {
      "text/plain": [
       "['french_toast', 'omelette', 'waffles']"
      ]
     },
     "execution_count": 14,
     "metadata": {},
     "output_type": "execute_result"
    }
   ],
   "source": [
    "# os.listdir('./images')"
   ]
  },
  {
   "cell_type": "code",
   "execution_count": 22,
   "metadata": {},
   "outputs": [],
   "source": [
    "# Function to split dataset into train and test folders\n",
    "def prepare_data(filepath, src,dest,food_list):\n",
    "  classes_images = defaultdict(list)\n",
    "  with open(filepath, 'r') as txt:\n",
    "      paths = [read.strip() for read in txt.readlines()]\n",
    "      for p in paths:\n",
    "        food = p.split('/')\n",
    "#         print(food)\n",
    "        classes_images[food[0]].append(food[1] + '.jpg')\n",
    "\n",
    "  for food in classes_images.keys():\n",
    "    if food in food_list:\n",
    "        print(\"\\nCopying images into \",food)\n",
    "        if not os.path.exists(os.path.join(dest,food)):\n",
    "          os.makedirs(os.path.join(dest,food))\n",
    "        for i in classes_images[food]:\n",
    "          copy(os.path.join(src,food,i), os.path.join(dest,food,i))\n",
    "    else :\n",
    "        print(\"\\nCopying images into Not_Breakfast \",food)\n",
    "        if not os.path.exists(os.path.join(dest,'Not_Breakfast')):\n",
    "          os.makedirs(os.path.join(dest,'Not_Breakfast'))\n",
    "        for i in classes_images[food]:\n",
    "          copy(os.path.join(src,food,i), os.path.join(dest,'Not_Breakfast',i))\n",
    "        \n",
    "  print(\"Copying Done!\")"
   ]
  },
  {
   "cell_type": "code",
   "execution_count": 23,
   "metadata": {},
   "outputs": [
    {
     "name": "stdout",
     "output_type": "stream",
     "text": [
      "\n",
      "Copying images into Not_Breakfast  apple_pie\n",
      "\n",
      "Copying images into Not_Breakfast  baby_back_ribs\n",
      "\n",
      "Copying images into Not_Breakfast  baklava\n",
      "\n",
      "Copying images into Not_Breakfast  beef_carpaccio\n",
      "\n",
      "Copying images into Not_Breakfast  beef_tartare\n",
      "\n",
      "Copying images into Not_Breakfast  beet_salad\n",
      "\n",
      "Copying images into Not_Breakfast  beignets\n",
      "\n",
      "Copying images into Not_Breakfast  bibimbap\n",
      "\n",
      "Copying images into Not_Breakfast  bread_pudding\n",
      "\n",
      "Copying images into  breakfast_burrito\n",
      "\n",
      "Copying images into Not_Breakfast  bruschetta\n",
      "\n",
      "Copying images into Not_Breakfast  caesar_salad\n",
      "\n",
      "Copying images into Not_Breakfast  cannoli\n",
      "\n",
      "Copying images into Not_Breakfast  caprese_salad\n",
      "\n",
      "Copying images into Not_Breakfast  carrot_cake\n",
      "\n",
      "Copying images into Not_Breakfast  ceviche\n",
      "\n",
      "Copying images into Not_Breakfast  cheesecake\n",
      "\n",
      "Copying images into Not_Breakfast  cheese_plate\n",
      "\n",
      "Copying images into Not_Breakfast  chicken_curry\n",
      "\n",
      "Copying images into Not_Breakfast  chicken_quesadilla\n",
      "\n",
      "Copying images into Not_Breakfast  chicken_wings\n",
      "\n",
      "Copying images into Not_Breakfast  chocolate_cake\n",
      "\n",
      "Copying images into Not_Breakfast  chocolate_mousse\n",
      "\n",
      "Copying images into Not_Breakfast  churros\n",
      "\n",
      "Copying images into Not_Breakfast  clam_chowder\n",
      "\n",
      "Copying images into Not_Breakfast  club_sandwich\n",
      "\n",
      "Copying images into Not_Breakfast  crab_cakes\n",
      "\n",
      "Copying images into Not_Breakfast  creme_brulee\n",
      "\n",
      "Copying images into Not_Breakfast  croque_madame\n",
      "\n",
      "Copying images into Not_Breakfast  cup_cakes\n",
      "\n",
      "Copying images into  deviled_eggs\n",
      "\n",
      "Copying images into  donuts\n",
      "\n",
      "Copying images into Not_Breakfast  dumplings\n",
      "\n",
      "Copying images into Not_Breakfast  edamame\n",
      "\n",
      "Copying images into Not_Breakfast  eggs_benedict\n",
      "\n",
      "Copying images into Not_Breakfast  escargots\n",
      "\n",
      "Copying images into Not_Breakfast  falafel\n",
      "\n",
      "Copying images into Not_Breakfast  filet_mignon\n",
      "\n",
      "Copying images into Not_Breakfast  fish_and_chips\n",
      "\n",
      "Copying images into Not_Breakfast  foie_gras\n",
      "\n",
      "Copying images into Not_Breakfast  french_fries\n",
      "\n",
      "Copying images into Not_Breakfast  french_onion_soup\n",
      "\n",
      "Copying images into  french_toast\n",
      "\n",
      "Copying images into Not_Breakfast  fried_calamari\n",
      "\n",
      "Copying images into Not_Breakfast  fried_rice\n",
      "\n",
      "Copying images into Not_Breakfast  frozen_yogurt\n",
      "\n",
      "Copying images into Not_Breakfast  garlic_bread\n",
      "\n",
      "Copying images into Not_Breakfast  gnocchi\n",
      "\n",
      "Copying images into Not_Breakfast  greek_salad\n",
      "\n",
      "Copying images into Not_Breakfast  grilled_cheese_sandwich\n",
      "\n",
      "Copying images into Not_Breakfast  grilled_salmon\n",
      "\n",
      "Copying images into Not_Breakfast  guacamole\n",
      "\n",
      "Copying images into Not_Breakfast  gyoza\n",
      "\n",
      "Copying images into Not_Breakfast  hamburger\n",
      "\n",
      "Copying images into Not_Breakfast  hot_and_sour_soup\n",
      "\n",
      "Copying images into Not_Breakfast  hot_dog\n",
      "\n",
      "Copying images into  huevos_rancheros\n",
      "\n",
      "Copying images into Not_Breakfast  hummus\n",
      "\n",
      "Copying images into Not_Breakfast  ice_cream\n",
      "\n",
      "Copying images into Not_Breakfast  lasagna\n",
      "\n",
      "Copying images into Not_Breakfast  lobster_bisque\n",
      "\n",
      "Copying images into Not_Breakfast  lobster_roll_sandwich\n",
      "\n",
      "Copying images into Not_Breakfast  macaroni_and_cheese\n",
      "\n",
      "Copying images into Not_Breakfast  macarons\n",
      "\n",
      "Copying images into Not_Breakfast  miso_soup\n",
      "\n",
      "Copying images into Not_Breakfast  mussels\n",
      "\n",
      "Copying images into Not_Breakfast  nachos\n",
      "\n",
      "Copying images into  omelette\n",
      "\n",
      "Copying images into Not_Breakfast  onion_rings\n",
      "\n",
      "Copying images into Not_Breakfast  oysters\n",
      "\n",
      "Copying images into Not_Breakfast  pad_thai\n",
      "\n",
      "Copying images into Not_Breakfast  paella\n",
      "\n",
      "Copying images into  pancakes\n",
      "\n",
      "Copying images into Not_Breakfast  panna_cotta\n",
      "\n",
      "Copying images into Not_Breakfast  peking_duck\n",
      "\n",
      "Copying images into Not_Breakfast  pho\n",
      "\n",
      "Copying images into Not_Breakfast  pizza\n",
      "\n",
      "Copying images into Not_Breakfast  pork_chop\n",
      "\n",
      "Copying images into Not_Breakfast  poutine\n",
      "\n",
      "Copying images into Not_Breakfast  prime_rib\n",
      "\n",
      "Copying images into Not_Breakfast  pulled_pork_sandwich\n",
      "\n",
      "Copying images into Not_Breakfast  ramen\n",
      "\n",
      "Copying images into Not_Breakfast  ravioli\n",
      "\n",
      "Copying images into Not_Breakfast  red_velvet_cake\n",
      "\n",
      "Copying images into Not_Breakfast  risotto\n",
      "\n",
      "Copying images into Not_Breakfast  samosa\n",
      "\n",
      "Copying images into Not_Breakfast  sashimi\n",
      "\n",
      "Copying images into Not_Breakfast  scallops\n",
      "\n",
      "Copying images into Not_Breakfast  seaweed_salad\n",
      "\n",
      "Copying images into Not_Breakfast  shrimp_and_grits\n",
      "\n",
      "Copying images into Not_Breakfast  spaghetti_bolognese\n",
      "\n",
      "Copying images into Not_Breakfast  spaghetti_carbonara\n",
      "\n",
      "Copying images into Not_Breakfast  spring_rolls\n",
      "\n",
      "Copying images into Not_Breakfast  steak\n",
      "\n",
      "Copying images into Not_Breakfast  strawberry_shortcake\n",
      "\n",
      "Copying images into Not_Breakfast  sushi\n",
      "\n",
      "Copying images into Not_Breakfast  tacos\n",
      "\n",
      "Copying images into Not_Breakfast  takoyaki\n",
      "\n",
      "Copying images into Not_Breakfast  tiramisu\n",
      "\n",
      "Copying images into Not_Breakfast  tuna_tartare\n",
      "\n",
      "Copying images into  waffles\n",
      "Copying Done!\n"
     ]
    }
   ],
   "source": [
    "# Prepare train dataset\n",
    "prepare_data('food-101/meta/train-subset_new.txt', 'food-101/images', 'train',food_list)"
   ]
  },
  {
   "cell_type": "code",
   "execution_count": 25,
   "metadata": {},
   "outputs": [
    {
     "name": "stdout",
     "output_type": "stream",
     "text": [
      "\n",
      "Copying images into Not_Breakfast  apple_pie\n",
      "\n",
      "Copying images into Not_Breakfast  baby_back_ribs\n",
      "\n",
      "Copying images into Not_Breakfast  baklava\n",
      "\n",
      "Copying images into Not_Breakfast  beef_carpaccio\n",
      "\n",
      "Copying images into Not_Breakfast  beef_tartare\n",
      "\n",
      "Copying images into Not_Breakfast  beet_salad\n",
      "\n",
      "Copying images into Not_Breakfast  beignets\n",
      "\n",
      "Copying images into Not_Breakfast  bibimbap\n",
      "\n",
      "Copying images into Not_Breakfast  bread_pudding\n",
      "\n",
      "Copying images into  breakfast_burrito\n",
      "\n",
      "Copying images into Not_Breakfast  bruschetta\n",
      "\n",
      "Copying images into Not_Breakfast  caesar_salad\n",
      "\n",
      "Copying images into Not_Breakfast  cannoli\n",
      "\n",
      "Copying images into Not_Breakfast  caprese_salad\n",
      "\n",
      "Copying images into Not_Breakfast  carrot_cake\n",
      "\n",
      "Copying images into Not_Breakfast  ceviche\n",
      "\n",
      "Copying images into Not_Breakfast  cheesecake\n",
      "\n",
      "Copying images into Not_Breakfast  cheese_plate\n",
      "\n",
      "Copying images into Not_Breakfast  chicken_curry\n",
      "\n",
      "Copying images into Not_Breakfast  chicken_quesadilla\n",
      "\n",
      "Copying images into Not_Breakfast  chicken_wings\n",
      "\n",
      "Copying images into Not_Breakfast  chocolate_cake\n",
      "\n",
      "Copying images into Not_Breakfast  chocolate_mousse\n",
      "\n",
      "Copying images into Not_Breakfast  churros\n",
      "\n",
      "Copying images into Not_Breakfast  clam_chowder\n",
      "\n",
      "Copying images into Not_Breakfast  club_sandwich\n",
      "\n",
      "Copying images into Not_Breakfast  crab_cakes\n",
      "\n",
      "Copying images into Not_Breakfast  creme_brulee\n",
      "\n",
      "Copying images into Not_Breakfast  croque_madame\n",
      "\n",
      "Copying images into Not_Breakfast  cup_cakes\n",
      "\n",
      "Copying images into  deviled_eggs\n",
      "\n",
      "Copying images into  donuts\n",
      "\n",
      "Copying images into Not_Breakfast  dumplings\n",
      "\n",
      "Copying images into Not_Breakfast  edamame\n",
      "\n",
      "Copying images into Not_Breakfast  eggs_benedict\n",
      "\n",
      "Copying images into Not_Breakfast  escargots\n",
      "\n",
      "Copying images into Not_Breakfast  falafel\n",
      "\n",
      "Copying images into Not_Breakfast  filet_mignon\n",
      "\n",
      "Copying images into Not_Breakfast  fish_and_chips\n",
      "\n",
      "Copying images into Not_Breakfast  foie_gras\n",
      "\n",
      "Copying images into Not_Breakfast  french_fries\n",
      "\n",
      "Copying images into Not_Breakfast  french_onion_soup\n",
      "\n",
      "Copying images into  french_toast\n",
      "\n",
      "Copying images into Not_Breakfast  fried_calamari\n",
      "\n",
      "Copying images into Not_Breakfast  fried_rice\n",
      "\n",
      "Copying images into Not_Breakfast  frozen_yogurt\n",
      "\n",
      "Copying images into Not_Breakfast  garlic_bread\n",
      "\n",
      "Copying images into Not_Breakfast  gnocchi\n",
      "\n",
      "Copying images into Not_Breakfast  greek_salad\n",
      "\n",
      "Copying images into Not_Breakfast  grilled_cheese_sandwich\n",
      "\n",
      "Copying images into Not_Breakfast  grilled_salmon\n",
      "\n",
      "Copying images into Not_Breakfast  guacamole\n",
      "\n",
      "Copying images into Not_Breakfast  gyoza\n",
      "\n",
      "Copying images into Not_Breakfast  hamburger\n",
      "\n",
      "Copying images into Not_Breakfast  hot_and_sour_soup\n",
      "\n",
      "Copying images into Not_Breakfast  hot_dog\n",
      "\n",
      "Copying images into  huevos_rancheros\n",
      "\n",
      "Copying images into Not_Breakfast  hummus\n",
      "\n",
      "Copying images into Not_Breakfast  ice_cream\n",
      "\n",
      "Copying images into Not_Breakfast  lasagna\n",
      "\n",
      "Copying images into Not_Breakfast  lobster_bisque\n",
      "\n",
      "Copying images into Not_Breakfast  lobster_roll_sandwich\n",
      "\n",
      "Copying images into Not_Breakfast  macaroni_and_cheese\n",
      "\n",
      "Copying images into Not_Breakfast  macarons\n",
      "\n",
      "Copying images into Not_Breakfast  miso_soup\n",
      "\n",
      "Copying images into Not_Breakfast  mussels\n",
      "\n",
      "Copying images into Not_Breakfast  nachos\n",
      "\n",
      "Copying images into  omelette\n",
      "\n",
      "Copying images into Not_Breakfast  onion_rings\n",
      "\n",
      "Copying images into Not_Breakfast  oysters\n",
      "\n",
      "Copying images into Not_Breakfast  pad_thai\n",
      "\n",
      "Copying images into Not_Breakfast  paella\n",
      "\n",
      "Copying images into  pancakes\n",
      "\n",
      "Copying images into Not_Breakfast  panna_cotta\n",
      "\n",
      "Copying images into Not_Breakfast  peking_duck\n",
      "\n",
      "Copying images into Not_Breakfast  pho\n",
      "\n",
      "Copying images into Not_Breakfast  pizza\n",
      "\n",
      "Copying images into Not_Breakfast  pork_chop\n",
      "\n",
      "Copying images into Not_Breakfast  poutine\n",
      "\n",
      "Copying images into Not_Breakfast  prime_rib\n",
      "\n",
      "Copying images into Not_Breakfast  pulled_pork_sandwich\n",
      "\n",
      "Copying images into Not_Breakfast  ramen\n",
      "\n",
      "Copying images into Not_Breakfast  ravioli\n",
      "\n",
      "Copying images into Not_Breakfast  red_velvet_cake\n",
      "\n",
      "Copying images into Not_Breakfast  risotto\n",
      "\n",
      "Copying images into Not_Breakfast  samosa\n",
      "\n",
      "Copying images into Not_Breakfast  sashimi\n",
      "\n",
      "Copying images into Not_Breakfast  scallops\n",
      "\n",
      "Copying images into Not_Breakfast  seaweed_salad\n",
      "\n",
      "Copying images into Not_Breakfast  shrimp_and_grits\n",
      "\n",
      "Copying images into Not_Breakfast  spaghetti_bolognese\n",
      "\n",
      "Copying images into Not_Breakfast  spaghetti_carbonara\n",
      "\n",
      "Copying images into Not_Breakfast  spring_rolls\n",
      "\n",
      "Copying images into Not_Breakfast  steak\n",
      "\n",
      "Copying images into Not_Breakfast  strawberry_shortcake\n",
      "\n",
      "Copying images into Not_Breakfast  sushi\n",
      "\n",
      "Copying images into Not_Breakfast  tacos\n",
      "\n",
      "Copying images into Not_Breakfast  takoyaki\n",
      "\n",
      "Copying images into Not_Breakfast  tiramisu\n",
      "\n",
      "Copying images into Not_Breakfast  tuna_tartare\n",
      "\n",
      "Copying images into  waffles\n",
      "Copying Done!\n"
     ]
    }
   ],
   "source": [
    "# Prepare test data\n",
    "prepare_data('food-101/meta/test-subset_new.txt', 'food-101/images', 'test',food_list)"
   ]
  },
  {
   "cell_type": "code",
   "execution_count": 26,
   "metadata": {},
   "outputs": [
    {
     "data": {
      "text/plain": [
       "['Not_Breakfast',\n",
       " 'breakfast_burrito',\n",
       " 'deviled_eggs',\n",
       " 'donuts',\n",
       " 'french_toast',\n",
       " 'huevos_rancheros',\n",
       " 'omelette',\n",
       " 'pancakes',\n",
       " 'waffles']"
      ]
     },
     "execution_count": 26,
     "metadata": {},
     "output_type": "execute_result"
    }
   ],
   "source": [
    "# List files in train folder\n",
    "files = sorted(os.listdir(\"./train\"))\n",
    "# del files[0] #remove .DS_Store\n",
    "files"
   ]
  },
  {
   "cell_type": "code",
   "execution_count": 27,
   "metadata": {},
   "outputs": [
    {
     "data": {
      "text/plain": [
       "['Not_Breakfast',\n",
       " 'breakfast_burrito',\n",
       " 'deviled_eggs',\n",
       " 'donuts',\n",
       " 'french_toast',\n",
       " 'huevos_rancheros',\n",
       " 'omelette',\n",
       " 'pancakes',\n",
       " 'waffles']"
      ]
     },
     "execution_count": 27,
     "metadata": {},
     "output_type": "execute_result"
    }
   ],
   "source": [
    "# List files in test folder\n",
    "files = sorted(os.listdir(\"./test\"))\n",
    "# del files[0] #remove .DS_Store\n",
    "files"
   ]
  },
  {
   "cell_type": "code",
   "execution_count": 29,
   "metadata": {},
   "outputs": [
    {
     "name": "stdout",
     "output_type": "stream",
     "text": [
      "Total number of samples in train folder\n",
      "6930\n"
     ]
    }
   ],
   "source": [
    "print(\"Total number of samples in train folder\")\n",
    "\n",
    "!find train -type d -or -type f -printf '.' | wc -c"
   ]
  },
  {
   "cell_type": "code",
   "execution_count": 30,
   "metadata": {},
   "outputs": [
    {
     "name": "stdout",
     "output_type": "stream",
     "text": [
      "Total number of samples in test folder\n",
      "2930\n"
     ]
    }
   ],
   "source": [
    "print(\"Total number of samples in test folder\")\n",
    "\n",
    "!find test -type d -or -type f -printf '.' | wc -c"
   ]
  },
  {
   "cell_type": "code",
   "execution_count": null,
   "metadata": {},
   "outputs": [],
   "source": []
  }
 ],
 "metadata": {
  "kernelspec": {
   "display_name": "Python 3",
   "language": "python",
   "name": "python3"
  },
  "language_info": {
   "codemirror_mode": {
    "name": "ipython",
    "version": 3
   },
   "file_extension": ".py",
   "mimetype": "text/x-python",
   "name": "python",
   "nbconvert_exporter": "python",
   "pygments_lexer": "ipython3",
   "version": "3.7.1"
  }
 },
 "nbformat": 4,
 "nbformat_minor": 2
}
